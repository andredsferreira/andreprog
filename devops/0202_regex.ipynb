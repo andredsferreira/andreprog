{
 "cells": [
  {
   "cell_type": "code",
   "execution_count": null,
   "id": "7d16f396",
   "metadata": {},
   "outputs": [],
   "source": [
    "# Reading CLF (common log format) lines with regex.\n",
    "# <IP Address> <Client Id> <User Id> <Time> <Request> <Status> <Size>\n",
    "\n",
    "import re\n",
    "\n",
    "line = '127.0.0.1 - rj [13/Nov/2019:14:34:30 -0000] \"GET /index.html HTTP/1.0\" 200 512'\n",
    "\n",
    "clf_pattern = re.compile(\n",
    "    r'(?P<IP>\\d+\\.\\d+\\.\\d+\\.\\d+) '            # IP Address\n",
    "    r'(?P<ClientId>\\S+) '                     # Client Id\n",
    "    r'(?P<UserId>\\S+) '                       # User Id\n",
    "    r'\\[(?P<Time>[^\\]]+)\\] '                  # Time (including timezone)\n",
    "    r'\"(?P<Request>[^\"]*)\"\\s'                 # Request line\n",
    "    r'(?P<Status>\\d{3}) '                     # Status code\n",
    "    r'(?P<Size>\\S+)'                          # Size (bytes or '-')\n",
    ")\n",
    "\n",
    "match = clf_pattern.match(line)\n",
    "if match:\n",
    "    print(\"IP:\", match.group(\"IP\"))\n",
    "    print(\"Client Id:\", match.group(\"ClientId\"))\n",
    "    print(\"User Id:\", match.group(\"UserId\"))\n",
    "    print(\"Time:\", match.group(\"Time\"))\n",
    "    print(\"Request:\", match.group(\"Request\"))\n",
    "    print(\"Status:\", match.group(\"Status\"))\n",
    "    print(\"Size:\", match.group(\"Size\"))\n",
    "else:\n",
    "    print(\"No match\")\n"
   ]
  },
  {
   "cell_type": "code",
   "execution_count": null,
   "id": "a2c1562b",
   "metadata": {},
   "outputs": [],
   "source": [
    "# Reading and iterating logs in CLF from a file\n",
    "# Only matches logs from 2024\n",
    "\n",
    "import re\n",
    "\n",
    "with open(\"access_logs.txt\", \"r\") as log_file:\n",
    "  content = log_file.read()\n",
    "\n",
    "r = r'^\\S+ \\S+ (?P<ClientName>\\S+) \\[(?P<DateTime>\\d{2}/\\w{3}/2024:\\d{2}:\\d{2}:\\d{2} [+\\-]\\d{4})\\]'\n",
    "matched = re.finditer(r, content, re.MULTILINE)\n",
    "\n",
    "for m in matched:\n",
    "  print(m.group(\"ClientName\", \"DateTime\"))"
   ]
  }
 ],
 "metadata": {
  "kernelspec": {
   "display_name": ".venv",
   "language": "python",
   "name": "python3"
  },
  "language_info": {
   "codemirror_mode": {
    "name": "ipython",
    "version": 3
   },
   "file_extension": ".py",
   "mimetype": "text/x-python",
   "name": "python",
   "nbconvert_exporter": "python",
   "pygments_lexer": "ipython3",
   "version": "3.11.2"
  }
 },
 "nbformat": 4,
 "nbformat_minor": 5
}
