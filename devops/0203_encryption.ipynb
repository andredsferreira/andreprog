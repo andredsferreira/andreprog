{
 "cells": [
  {
   "cell_type": "code",
   "execution_count": null,
   "id": "7b729693",
   "metadata": {},
   "outputs": [],
   "source": [
    "# Simple hashing of a password using common hashing algorithms\n",
    "# To hash the encoding must be bytes\n",
    "\n",
    "import hashlib\n",
    "\n",
    "secret = \"This is the secret to be hashed!\"\n",
    "\n",
    "# Convert from UTF-8 to byte enconding\n",
    "bsecret = secret.encode()\n",
    "\n",
    "sha512_hash = hashlib.sha512()\n",
    "sha512_hash.update(bsecret)\n",
    "print(f\"SHA512: {sha512_hash.digest()}\")\n",
    "print(f\"SHA512: {sha512_hash.hexdigest()}\")\n",
    "\n",
    "\n",
    "md5_hash = hashlib.md5()\n",
    "md5_hash.update(bsecret)\n",
    "print(f\"MD5: {md5_hash.digest()}\")\n",
    "print(f\"MD5: {md5_hash.hexdigest()}\")\n",
    "\n"
   ]
  },
  {
   "cell_type": "code",
   "execution_count": null,
   "id": "b41fea6a",
   "metadata": {},
   "outputs": [],
   "source": [
    "# Symmetric encryption (same key for encrypting and decrypting) faster for larger files\n",
    "# Using the cryptography.fernet module to encrypt some data symmetrically\n",
    "\n",
    "from cryptography.fernet import Fernet\n",
    "\n",
    "key = Fernet.generate_key()\n",
    "print(f\"Key:\\n{key}\")\n",
    "\n",
    "# Create Fernet objecto to encrypt and decrypt the data\n",
    "f = Fernet(key)\n",
    "\n",
    "# Message to encrypt and decrypt must be bytes not unicode\n",
    "message = b\"This is the secret message!\"\n",
    "\n",
    "# Encrypt\n",
    "encrypted_message = f.encrypt(message)\n",
    "print(f\"Encrypted message:\\n{encrypted_message}\")\n",
    "\n",
    "# Decrypt\n",
    "print(f.decrypt(encrypted_message))\n",
    "\n"
   ]
  },
  {
   "cell_type": "code",
   "execution_count": null,
   "id": "9e20298c",
   "metadata": {},
   "outputs": [
    {
     "name": "stdout",
     "output_type": "stream",
     "text": [
      "private key: b<cryptography.hazmat.bindings._rust.openssl.rsa.RSAPrivateKey object at 0x7ff80e721c10>\n",
      "b'd`\\xad\\xb7g\\x10\\x8bz\\xc6\\xd4\\xba\\x13\\x9e\\x01\\xc4B\\xe2\\xfb\\x86\\xff\\x9c \\x8e:\\xaa\\xc0\\x84\\xf5\\x9a\\xc4\\x10N\\xdc\\x89\\xcf\\xbb\\x8a\\x83\\xea\\xa20\\xfc/\\x8a%\\xd0\\xafd\\x82\\x94F\\xc0\\x05|P\\xc24\\xb4\\x01m\\xcc\\xad\\xe3I\\xc7\\xb0\\xbe\\xa5\\xce\\xed\\x1c\\xff\\xe9\\xe4TP`W\\xd9\\xcf#\\x8d\\xbd\\xe4*\\x1e\\xa7\\x8c\\xcam\\x99\\xce\\xb6\\x9b=\\xaf\\xb3\\xa5T6\\xf7\\xe8N\\xca\\x81\\xe2\\x9f\\x93\\xd9/\\xf6\\x8e\\xa2.\\xfe\\x92Td\\xae<a%n\\x05x\\xf4\\x7f(\\xda\\xf1*\\x1c!8\\xa5\\xaf\\xc0\\xdae\\xaa\\xda\\xe5\\xb1\\x8eN\\x08[\\xe80]v\\x03;\\x80\\xef`\\xc1\\x9aY\\xfe\\xa7\\xaa\\xda\\t\\xa5\\xfdK\\xbd=h\\xdd\\xcf\\xad\\xee\\x90T\\x87O\\x9c\\xa6\\x81\\xec)9\\xe7\\xf5\\xf1 \\xc8\\xa8^;\\xd8\\xc6\\xf7\\x8f7\\xbb\\xb5\\x17\\xaa\\xaf$3\\xa7\\xb2\\x18}.\\xcf\\xd6f\\xfe\\xa1-\\xfa8\\x92B\\xfe<\\x19\\xb6e[=\\xc8m\\x17\\xac\\xa6\\x9e\\xf4\\x94\\xc9\\x1d\\xd1\\xe8\\x8e)\\xb1\\xf0\\x88\\x9a\\xc9\\xb9\\x85\\xce\\xd3\\xff\\xdf@f\\x1d\\t40\\xce\\xe9L\\x08\\xee\\xe9\\\\\\xe1\\xe0[\\x0eE\\x19\\x1c\\x02\\x0e\\x0e\\x98\\x80\\xf9\\xb5\\x95D\\r1\\xca\\xbeP\\xdb\\xa54\\x95VM\\xc0AI\\xe6\\xc9A\\xfb\\xd1\\xa8XD8\\x84\\x14\\x1c\\xaa\\x1b\\xe2\\xe13\\x12k\\x13\\x8b\\xcc\\xfd\\xde\\x1a\\x16g\\x1b\\xe9\\xc2\\xdcX\\x85v\\x1cD\\xe0\\x97\\x81\\xb0\\xf9_\\x9d[\\x89\\xaf(:|F?O\\x94\\x99\\x96\\xd92\\x15\\xef\\xf34F/L\\xe0(\\xc2\\xdb[a\\x08\\x11\\xb4xE\\xf2\\x1b\\xfc\\xeb\\xfeF\\xe2u\\x93\\x87\\xeap\\xeff\\xbc\\x16\\x0e#\\x9fUP\\x9d\\xef\\x0f\\xb9M\"\\x8ar\\x14\\xa8&\\xc0\\xc5\\x19\\xfc\\x1c\\x869\\xf80_\\'\\xcf]\\xc5\\x0c\\x8bb\\x17\\xec\\xbf\\xd3\\xbd\\tA\\xbd\\xdb\\xf7\\xf0c\\xbdi\\x18\\x9aj\\x02\\x9c#\\xb5R9\\xa1\\xfed\\x87\\xce\\xeeX@\\xab\\x84\\xe7Y\\x97\\xf7H\\xa7\\xfb(\\xda\\xc4g\\x8d\\xc4\\x1a\\xfe\\x0b<U\\x92\\xa7]\\x1f\\xb17\\x8b\\x98K\\x1e3\\x92\\x9fW\\nI\\xf0`/\\xdf\\x04K\\x1d\\xcdo\\xc3N\\xd8\\xdb\\'@]\\x0eU\\x9aY#\\xa1X-Q\\x027'\n",
      "b'Secret message!'\n"
     ]
    }
   ],
   "source": [
    "# Asymmetric encryption (private key for decrypting public for encrypting)\n",
    "# Using the Rivest-Shamir-Adleman (RSA) algorithm\n",
    "\n",
    "from cryptography.hazmat.backends import default_backend\n",
    "from cryptography.hazmat.primitives.asymmetric import rsa\n",
    "\n",
    "from cryptography.hazmat.primitives.asymmetric import padding\n",
    "from cryptography.hazmat.primitives import hashes\n",
    "\n",
    "# To decrypt\n",
    "private_key = rsa.generate_private_key(public_exponent=65537,\n",
    "                                       key_size=4096,\n",
    "                                       backend=default_backend())\n",
    "\n",
    "# To encrypt\n",
    "public_key = private_key.public_key()\n",
    "\n",
    "message = b\"Secret message!\"\n",
    "\n",
    "encrypted_message = public_key.encrypt(message,\n",
    "                                       padding.OAEP(mgf=padding.MGF1(algorithm=hashes.SHA256()),\n",
    "                                       algorithm=hashes.SHA256(),\n",
    "                                       label=None))\n",
    "\n",
    "print(encrypted_message)\n",
    "\n",
    "decrypted_message = private_key.decrypt(encrypted_message,\n",
    "                                        padding.OAEP(mgf=padding.MGF1(algorithm=hashes.SHA256()),\n",
    "                                        algorithm=hashes.SHA256(),\n",
    "                                        label=None))\n",
    "\n",
    "print(decrypted_message)\n",
    "\n",
    "\n"
   ]
  }
 ],
 "metadata": {
  "kernelspec": {
   "display_name": ".venv",
   "language": "python",
   "name": "python3"
  },
  "language_info": {
   "codemirror_mode": {
    "name": "ipython",
    "version": 3
   },
   "file_extension": ".py",
   "mimetype": "text/x-python",
   "name": "python",
   "nbconvert_exporter": "python",
   "pygments_lexer": "ipython3",
   "version": "3.11.2"
  }
 },
 "nbformat": 4,
 "nbformat_minor": 5
}
