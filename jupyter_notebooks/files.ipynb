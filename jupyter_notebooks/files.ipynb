{
 "cells": [
  {
   "cell_type": "markdown",
   "id": "fdc3c231",
   "metadata": {},
   "source": [
    "## Writing a file\n",
    "\n",
    "- If the file does not exist, it creates one.\n",
    "- Truncates the file if it already exists.\n",
    "- The with statement automatically closes the file."
   ]
  },
  {
   "cell_type": "code",
   "execution_count": null,
   "id": "7564a34e",
   "metadata": {},
   "outputs": [],
   "source": [
    "filepath = \"files/0201_file.txt\"\n",
    "\n",
    "with open(filepath, \"w\") as file:\n",
    "  file.write(\"This is the first line written to the file.\\n\")  "
   ]
  },
  {
   "cell_type": "markdown",
   "id": "ce022dca",
   "metadata": {},
   "source": [
    "## Reading file\n",
    "\n",
    "- Throws error if it doesn't exist."
   ]
  },
  {
   "cell_type": "code",
   "execution_count": null,
   "id": "5485b64c",
   "metadata": {},
   "outputs": [],
   "source": [
    "filepath = \"files/0201_file.txt\"\n",
    "\n",
    "with open(filepath, \"r\") as file:\n",
    "  contents = file.read()\n",
    "  print(f\"File contents:\\n{contents}\")"
   ]
  },
  {
   "cell_type": "markdown",
   "id": "528cc7ab",
   "metadata": {},
   "source": [
    "## Apending file"
   ]
  },
  {
   "cell_type": "code",
   "execution_count": null,
   "id": "5ef7663b",
   "metadata": {},
   "outputs": [],
   "source": [
    "filepath = \"files/0201_file.txt\"\n",
    "\n",
    "with open(filepath, \"a\") as file:\n",
    "  file.write(\"This is the second line written to the file.\\n\")\n",
    "\n",
    "with open(filepath, \"r\") as file:\n",
    "  content = file.read()\n",
    "  print(content)"
   ]
  },
  {
   "cell_type": "markdown",
   "id": "ad3cca33",
   "metadata": {},
   "source": [
    "## File reading and writing (r+)\n",
    "\n",
    "- The file must exist.\n",
    "- The \"r+\" option does not truncate the file.\n",
    "- The file cursor starts at the beginning (if you want to write in the end of the file you have to move it there)"
   ]
  },
  {
   "cell_type": "code",
   "execution_count": null,
   "id": "772d638f",
   "metadata": {},
   "outputs": [],
   "source": [
    "filepath = \"files/0201_file.txt\"\n",
    "\n",
    "with open(filepath, \"r+\") as file:\n",
    "\n",
    "  # Move cursor to the end to start writing\n",
    "  file.seek(0, 2)\n",
    "\n",
    "  file.write(\"This is the third line written to the file.\\n\")\n",
    "  \n",
    "  # Move cursor to beginning to read all contents\n",
    "  file.seek(0)\n",
    "\n",
    "  contents = file.read()\n",
    "  print(contents)"
   ]
  },
  {
   "cell_type": "markdown",
   "id": "4b63d087",
   "metadata": {},
   "source": [
    "## File writing and reading (w+)\n",
    "\n",
    "- It truncates the file.\n",
    "- If it does not exist, creates a new one."
   ]
  },
  {
   "cell_type": "code",
   "execution_count": null,
   "id": "6dbd0b50",
   "metadata": {},
   "outputs": [],
   "source": [
    "filepath = \"files/0201_file.txt\"\n",
    "\n",
    "with open(filepath, \"w+\") as file:\n",
    "  file.write(\"This is the fourth line written to the file.\\n\")\n",
    "  file.write(\"All others are gone!\\n\")\n",
    "  \n",
    "  file.seek(0)\n",
    "  contents = file.read()\n",
    "  print(contents)"
   ]
  },
  {
   "cell_type": "markdown",
   "id": "91cf8b3b",
   "metadata": {},
   "source": [
    "## Reading JSON"
   ]
  },
  {
   "cell_type": "code",
   "execution_count": null,
   "id": "1ee4f60e",
   "metadata": {},
   "outputs": [],
   "source": [
    "\n",
    "import json\n",
    "from pprint import pprint\n",
    "\n",
    "with open(\"files/0201_aws_iam_example.json\", \"r\") as json_file:\n",
    "  policy = json.load(json_file)\n",
    "\n",
    "print(\"Before changing: \\n\")\n",
    "pprint(policy)\n",
    "\n",
    "policy[\"Statement\"][0][\"Action\"].extend([\n",
    "    \"s3:GetObject\",\n",
    "    \"s3:PutObject\"\n",
    "])\n",
    "\n",
    "print(\"\\nAfter changing: \\n\")\n",
    "pprint(policy)\n"
   ]
  },
  {
   "cell_type": "markdown",
   "id": "70774f30",
   "metadata": {},
   "source": [
    "## Reading YAML"
   ]
  },
  {
   "cell_type": "code",
   "execution_count": null,
   "id": "4d1d703f",
   "metadata": {},
   "outputs": [],
   "source": [
    "\n",
    "import yaml\n",
    "from pprint import pprint\n",
    "\n",
    "with open(\"files/0201_ansible_example.yaml\", \"r\") as yaml_file:\n",
    "  playbook = yaml.safe_load(yaml_file)\n",
    "\n",
    "pprint(playbook)\n",
    "\n",
    "# Notice that the playbook is a dict item\n",
    "# This means we have to access through the index [0]\n",
    "\n",
    "playbook[0][\"name\"] = \"NGINX RULES!\"\n",
    "\n",
    "pprint(playbook)\n",
    "\n",
    "# Deleting the first task\n",
    "\n",
    "del playbook[0][\"tasks\"][0]\n",
    "\n",
    "pprint(playbook)\n"
   ]
  },
  {
   "cell_type": "markdown",
   "id": "2ce1952b",
   "metadata": {},
   "source": [
    "## Reading CSV"
   ]
  },
  {
   "cell_type": "code",
   "execution_count": null,
   "id": "b72d379a",
   "metadata": {},
   "outputs": [],
   "source": [
    "import csv\n",
    "\n",
    "with open(\"files/0201_elements.csv\", newline='') as csv_file:\n",
    "  reader = csv.reader(csv_file, delimiter=',')\n",
    "  for row in reader:\n",
    "    print(row)\n"
   ]
  },
  {
   "cell_type": "markdown",
   "id": "9fa89887",
   "metadata": {},
   "source": [
    "## Reading CSV with Pandas"
   ]
  },
  {
   "cell_type": "code",
   "execution_count": null,
   "id": "bf2887ea",
   "metadata": {},
   "outputs": [],
   "source": [
    "import pandas as pd\n",
    "\n",
    "df = pd.read_csv(\"files/0201_elements.csv\")\n",
    "\n",
    "print(df.head())\n",
    "print(\"-\" * 66)\n",
    "print(df.describe().round(2))\n",
    "print(\"-\" * 66)\n",
    "print(df[\"symbol\"])\n"
   ]
  }
 ],
 "metadata": {
  "kernelspec": {
   "display_name": ".venv",
   "language": "python",
   "name": "python3"
  },
  "language_info": {
   "codemirror_mode": {
    "name": "ipython",
    "version": 3
   },
   "file_extension": ".py",
   "mimetype": "text/x-python",
   "name": "python",
   "nbconvert_exporter": "python",
   "pygments_lexer": "ipython3",
   "version": "3.11.2"
  }
 },
 "nbformat": 4,
 "nbformat_minor": 5
}
