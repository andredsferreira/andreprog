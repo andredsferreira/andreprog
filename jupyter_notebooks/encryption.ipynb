{
 "cells": [
  {
   "cell_type": "code",
   "execution_count": null,
   "id": "7b729693",
   "metadata": {},
   "outputs": [],
   "source": [
    "# Simple hashing of a password using common hashing algorithms (MD5 is unsecure!)\n",
    "# To hash the encoding must be bytes\n",
    "\n",
    "import hashlib\n",
    "\n",
    "secret = \"This is the secret to be hashed!\"\n",
    "\n",
    "# Convert from UTF-8 to byte enconding\n",
    "bsecret = secret.encode()\n",
    "\n",
    "sha256_hash = hashlib.sha256()\n",
    "sha256_hash.update(bsecret)\n",
    "print(f\"SHA256: {sha256_hash.digest()}\")\n",
    "print(f\"SHA256: {sha256_hash.hexdigest()}\")\n",
    "\n",
    "sha512_hash = hashlib.sha512()\n",
    "sha512_hash.update(bsecret)\n",
    "print(f\"SHA512: {sha512_hash.digest()}\")\n",
    "print(f\"SHA512: {sha512_hash.hexdigest()}\")\n",
    "\n",
    "md5_hash = hashlib.md5()\n",
    "md5_hash.update(bsecret)\n",
    "print(f\"MD5: {md5_hash.digest()}\")\n",
    "print(f\"MD5: {md5_hash.hexdigest()}\")\n",
    "\n",
    "\n"
   ]
  },
  {
   "cell_type": "code",
   "execution_count": null,
   "id": "3ffdc497",
   "metadata": {},
   "outputs": [
    {
     "name": "stdout",
     "output_type": "stream",
     "text": [
      "Hashed password: $argon2id$v=19$m=65536,t=3,p=4$vgIIFb9h+CTG+2riU7XZLA$ogRC/tFR/ACFr6uXgCGfqEi9lFYg46TJjQ/jbeSM5lo\n",
      "Password is correct ✅\n"
     ]
    }
   ],
   "source": [
    "# Using the most secure hashing algorithm today : Argon2\n",
    "\n",
    "from argon2 import PasswordHasher\n",
    "from argon2.exceptions import VerifyMismatchError\n",
    "\n",
    "# Create a PasswordHasher instance (uses Argon2id by default)\n",
    "ph = PasswordHasher()\n",
    "\n",
    "secret = \"supersecret\"\n",
    "\n",
    "# Hash the password\n",
    "hashed_password = ph.hash(secret)\n",
    "print(\"Hashed password:\", hashed_password)\n",
    "\n",
    "# Later: verify the password\n",
    "try:\n",
    "    ph.verify(hashed_password, secret)\n",
    "    print(\"Password is correct ✅\")\n",
    "except VerifyMismatchError:\n",
    "    print(\"Password is incorrect ❌\")\n"
   ]
  },
  {
   "cell_type": "code",
   "execution_count": null,
   "id": "b41fea6a",
   "metadata": {},
   "outputs": [],
   "source": [
    "# Symmetric encryption (same key for encrypting and decrypting) faster for larger files\n",
    "# Using the cryptography.fernet module to encrypt some data symmetrically\n",
    "\n",
    "from cryptography.fernet import Fernet\n",
    "\n",
    "key = Fernet.generate_key()\n",
    "print(f\"Key:\\n{key}\")\n",
    "\n",
    "# Create Fernet objecto to encrypt and decrypt the data\n",
    "f = Fernet(key)\n",
    "\n",
    "# Message to encrypt and decrypt must be bytes not unicode\n",
    "message = b\"This is the secret message!\"\n",
    "\n",
    "# Encrypt\n",
    "encrypted_message = f.encrypt(message)\n",
    "print(f\"Encrypted message:\\n{encrypted_message}\")\n",
    "\n",
    "# Decrypt\n",
    "print(f.decrypt(encrypted_message))\n",
    "\n"
   ]
  },
  {
   "cell_type": "code",
   "execution_count": null,
   "id": "9e20298c",
   "metadata": {},
   "outputs": [],
   "source": [
    "# Asymmetric encryption (private key for decrypting public for encrypting)\n",
    "# Using the Rivest-Shamir-Adleman (RSA) algorithm\n",
    "\n",
    "from cryptography.hazmat.backends import default_backend\n",
    "from cryptography.hazmat.primitives.asymmetric import rsa\n",
    "\n",
    "from cryptography.hazmat.primitives.asymmetric import padding\n",
    "from cryptography.hazmat.primitives import hashes\n",
    "\n",
    "# To decrypt\n",
    "private_key = rsa.generate_private_key(public_exponent=65537,\n",
    "                                       key_size=4096,\n",
    "                                       backend=default_backend())\n",
    "\n",
    "# To encrypt\n",
    "public_key = private_key.public_key()\n",
    "\n",
    "message = b\"Secret message!\"\n",
    "\n",
    "encrypted_message = public_key.encrypt(message,\n",
    "                                       padding.OAEP(mgf=padding.MGF1(algorithm=hashes.SHA256()),\n",
    "                                       algorithm=hashes.SHA256(),\n",
    "                                       label=None))\n",
    "\n",
    "print(encrypted_message)\n",
    "\n",
    "decrypted_message = private_key.decrypt(encrypted_message,\n",
    "                                        padding.OAEP(mgf=padding.MGF1(algorithm=hashes.SHA256()),\n",
    "                                        algorithm=hashes.SHA256(),\n",
    "                                        label=None))\n",
    "\n",
    "print(decrypted_message)\n",
    "\n",
    "\n"
   ]
  }
 ],
 "metadata": {
  "kernelspec": {
   "display_name": ".venv",
   "language": "python",
   "name": "python3"
  },
  "language_info": {
   "codemirror_mode": {
    "name": "ipython",
    "version": 3
   },
   "file_extension": ".py",
   "mimetype": "text/x-python",
   "name": "python",
   "nbconvert_exporter": "python",
   "pygments_lexer": "ipython3",
   "version": "3.11.2"
  }
 },
 "nbformat": 4,
 "nbformat_minor": 5
}
