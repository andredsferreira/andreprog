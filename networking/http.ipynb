{
 "cells": [
  {
   "cell_type": "code",
   "execution_count": null,
   "id": "0c53b6bd",
   "metadata": {},
   "outputs": [
    {
     "name": "stdout",
     "output_type": "stream",
     "text": [
      "Status: 200 OK\n",
      "Body:\n",
      "{\n",
      "  \"args\": {}, \n",
      "  \"headers\": {\n",
      "    \"Accept\": \"application/json\", \n",
      "    \"Accept-Encoding\": \"identity\", \n",
      "    \"Host\": \"httpbin.org\", \n",
      "    \"User-Agent\": \"MyPythonClient/1.0\", \n",
      "    \"X-Amzn-Trace-Id\": \"Root=1-6856fae5-10384b1c79b7a6062f7844df\"\n",
      "  }, \n",
      "  \"origin\": \"89.155.235.127\", \n",
      "  \"url\": \"https://httpbin.org/get\"\n",
      "}\n",
      "\n"
     ]
    }
   ],
   "source": [
    "# Simple HTTP GET request with native python library\n",
    "\n",
    "import http.client\n",
    "\n",
    "conn = http.client.HTTPSConnection(\"httpbin.org\")\n",
    "headers = {\n",
    "    \"User-Agent\": \"MyPythonClient/1.0\",\n",
    "    \"Accept\": \"application/json\"\n",
    "}\n",
    "\n",
    "conn.request(\"GET\", \"/get\", headers=headers)\n",
    "response = conn.getresponse()\n",
    "\n",
    "print(f\"Status: {response.status} {response.reason}\")\n",
    "body = response.read().decode()\n",
    "\n",
    "print(\"Body:\")\n",
    "print(body)\n",
    "\n",
    "conn.close()\n",
    "\n"
   ]
  },
  {
   "cell_type": "code",
   "execution_count": null,
   "id": "440d2975",
   "metadata": {},
   "outputs": [
    {
     "name": "stdout",
     "output_type": "stream",
     "text": [
      "Status: 200 OK\n",
      "Body:\n",
      "{\n",
      "  \"args\": {}, \n",
      "  \"data\": \"\", \n",
      "  \"files\": {}, \n",
      "  \"form\": {\n",
      "    \"name\": \"Alice\"\n",
      "  }, \n",
      "  \"headers\": {\n",
      "    \"Accept\": \"application/json\", \n",
      "    \"Accept-Encoding\": \"identity\", \n",
      "    \"Content-Length\": \"10\", \n",
      "    \"Content-Type\": \"application/x-www-form-urlencoded\", \n",
      "    \"Host\": \"httpbin.org\", \n",
      "    \"User-Agent\": \"MyPythonClient/1.0\", \n",
      "    \"X-Amzn-Trace-Id\": \"Root=1-6856fbc6-5a56ae33234120491a9490c2\"\n",
      "  }, \n",
      "  \"json\": null, \n",
      "  \"origin\": \"89.155.235.127\", \n",
      "  \"url\": \"https://httpbin.org/post\"\n",
      "}\n",
      "\n"
     ]
    }
   ],
   "source": [
    "# Simple HTTP POST request with native python library\n",
    "\n",
    "import http.client\n",
    "import urllib.parse\n",
    "\n",
    "conn = http.client.HTTPSConnection(\"httpbin.org\")\n",
    "params = urllib.parse.urlencode({\n",
    "    \"name\": \"André\",\n",
    "    \"age\": \"24\"\n",
    "})\n",
    "headers = {\n",
    "    \"User-Agent\": \"MyPythonClient/1.0\",\n",
    "    \"Content-Type\": \"application/x-www-form-urlencoded\",\n",
    "    \"Accept\": \"application/json\"\n",
    "}\n",
    "\n",
    "conn.request(\"POST\", \"/post\", body=params, headers=headers)\n",
    "response = conn.getresponse()\n",
    "\n",
    "print(f\"Status: {response.status} {response.reason}\")\n",
    "body = response.read().decode()\n",
    "\n",
    "print(\"Body:\")\n",
    "print(body)\n",
    "\n",
    "conn.close()\n"
   ]
  }
 ],
 "metadata": {
  "kernelspec": {
   "display_name": ".venv",
   "language": "python",
   "name": "python3"
  },
  "language_info": {
   "codemirror_mode": {
    "name": "ipython",
    "version": 3
   },
   "file_extension": ".py",
   "mimetype": "text/x-python",
   "name": "python",
   "nbconvert_exporter": "python",
   "pygments_lexer": "ipython3",
   "version": "3.11.2"
  }
 },
 "nbformat": 4,
 "nbformat_minor": 5
}
