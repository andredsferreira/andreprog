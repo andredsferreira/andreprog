{
 "cells": [
  {
   "cell_type": "code",
   "execution_count": null,
   "id": "d0b13d1e",
   "metadata": {},
   "outputs": [],
   "source": [
    "# Core OS functions\n",
    "\n",
    "import os\n",
    "\n",
    "print(os.listdir(\"/\"))\n",
    "\n",
    "if os.path.exists(\"test.txt\"):\n",
    "  os.rename(\"test.txt\", \"hello.txt\")\n",
    "else:\n",
    "  os.rename(\"hello.txt\", \"test.txt\")\n",
    "\n",
    "# Octal representation of permissions\n",
    "os.chmod(\"permissions.sh\", 0o777)\n",
    "\n",
    "os.stat(\"os-module.ipynb\")\n"
   ]
  },
  {
   "cell_type": "code",
   "execution_count": null,
   "id": "ffc55538",
   "metadata": {},
   "outputs": [],
   "source": [
    "# Path related operations\n",
    "\n",
    "import os\n",
    "\n",
    "cur_dir = os.getcwd()\n",
    "\n",
    "print(f\"Split: {os.path.split(cur_dir)}\")\n",
    "\n",
    "print(f\"Dirname: {os.path.dirname(cur_dir)}\")\n",
    "\n",
    "print(f\"Basename: {os.path.basename(cur_dir)}\")\n",
    "\n",
    "# Pattern to walk up a dir tree\n",
    "print(\"Walk up dir tree:\")\n",
    "while os.path.basename(cur_dir):\n",
    "  cur_dir = os.path.dirname(cur_dir)\n",
    "  print(cur_dir)\n",
    "\n"
   ]
  },
  {
   "cell_type": "code",
   "execution_count": null,
   "id": "a498c940",
   "metadata": {},
   "outputs": [],
   "source": [
    "# Walking a directory and checking for type of file\n",
    "# (which is done with the os.path submodule) and printing\n",
    "# some details\n",
    "\n",
    "import os\n",
    "\n",
    "def walk_path(parent_path):\n",
    "  print(f\"Checking: {parent_path}\")\n",
    "  childs = os.listdir(parent_path)\n",
    "\n",
    "  for child in childs:\n",
    "    child_path = os.path.join(parent_path, child)\n",
    "\n",
    "    if os.path.isfile(child_path):\n",
    "      last_access = os.path.getatime(child_path)\n",
    "      size = os.path.getsize(child_path)\n",
    "      print(f\"File: {child_path}\")\n",
    "      print(f\"Last Access: {last_access}\")\n",
    "      print(f\"Size: {size}\")\n",
    "    elif os.path.isdir(child_path):\n",
    "      walk_path(child_path)\n",
    "\n",
    "\n",
    "walk_path(os.getcwd())  \n",
    "\n"
   ]
  }
 ],
 "metadata": {
  "kernelspec": {
   "display_name": ".venv",
   "language": "python",
   "name": "python3"
  },
  "language_info": {
   "codemirror_mode": {
    "name": "ipython",
    "version": 3
   },
   "file_extension": ".py",
   "mimetype": "text/x-python",
   "name": "python",
   "nbconvert_exporter": "python",
   "pygments_lexer": "ipython3",
   "version": "3.11.2"
  }
 },
 "nbformat": 4,
 "nbformat_minor": 5
}
