{
 "cells": [
  {
   "cell_type": "code",
   "execution_count": null,
   "id": "57e0e074",
   "metadata": {},
   "outputs": [],
   "source": [
    "# Opening a file for writing\n",
    "# If the file does not exist, it creates one\n",
    "# Truncates (erases all content) the file if it already exists\n",
    "# The with statement automatically closes the file\n",
    "\n",
    "filepath = \"file.txt\"\n",
    "\n",
    "with open(filepath, \"w\") as file:\n",
    "  file.write(\"This is the first line written to the file.\\n\")  \n",
    "\n",
    "# Opening a file for reading\n",
    "# Throws error if it doesn't exist\n",
    "\n",
    "with open(filepath, \"r\") as file:\n",
    "  contents = file.read()\n",
    "  print(f\"File contents:\\n{contents}\")"
   ]
  },
  {
   "cell_type": "code",
   "execution_count": null,
   "id": "5ef7663b",
   "metadata": {},
   "outputs": [],
   "source": [
    "# Opening file for appending content\n",
    "\n",
    "filepath = \"file.txt\"\n",
    "\n",
    "with open(filepath, \"a\") as file:\n",
    "  file.write(\"This is the second line written to the file.\\n\")\n",
    "\n",
    "with open(filepath, \"r\") as file:\n",
    "  content = file.read()\n",
    "  print(content)"
   ]
  },
  {
   "cell_type": "code",
   "execution_count": null,
   "id": "772d638f",
   "metadata": {},
   "outputs": [],
   "source": [
    "# Opening file for reading and writing\n",
    "# The file must exist\n",
    "# The \"r+\" flag does not truncate the file\n",
    "# The file cursor starts at the beginning\n",
    "\n",
    "filepath = \"file.txt\"\n",
    "\n",
    "with open(filepath, \"r+\") as file:\n",
    "\n",
    "  # Move cursor to the end to start writing\n",
    "  file.seek(0, 2)\n",
    "\n",
    "  file.write(\"This is the third line written to the file.\\n\")\n",
    "  \n",
    "  # Move cursor to beginning to read all contents\n",
    "  file.seek(0)\n",
    "\n",
    "  contents = file.read()\n",
    "  print(contents)\n"
   ]
  },
  {
   "cell_type": "code",
   "execution_count": 32,
   "id": "6dbd0b50",
   "metadata": {},
   "outputs": [
    {
     "name": "stdout",
     "output_type": "stream",
     "text": [
      "This is the fourth line written to the file.\n",
      "All others are gone!\n",
      "\n"
     ]
    }
   ],
   "source": [
    "# Opening file for writing and reading\n",
    "# It truncates the file\n",
    "# If it does not exist, creates a new one\n",
    "\n",
    "filepath = \"file.txt\"\n",
    "\n",
    "with open(filepath, \"w+\") as file:\n",
    "  file.write(\"This is the fourth line written to the file.\\n\")\n",
    "  file.write(\"All others are gone!\\n\")\n",
    "  \n",
    "  file.seek(0)\n",
    "  contents = file.read()\n",
    "  print(contents)"
   ]
  },
  {
   "cell_type": "code",
   "execution_count": null,
   "id": "1ee4f60e",
   "metadata": {},
   "outputs": [],
   "source": [
    "# Reading a JSON file\n",
    "\n",
    "import json\n",
    "from pprint import pprint\n",
    "\n",
    "with open(\"aws_iam_example.json\", \"r\") as json_file:\n",
    "  policy = json.load(json_file)\n",
    "\n",
    "print(\"Before changing: \\n\")\n",
    "pprint(policy)\n",
    "\n",
    "policy[\"Statement\"][0][\"Action\"].extend([\n",
    "    \"s3:GetObject\",\n",
    "    \"s3:PutObject\"\n",
    "])\n",
    "\n",
    "print(\"\\nAfter changing: \\n\")\n",
    "pprint(policy)\n"
   ]
  },
  {
   "cell_type": "code",
   "execution_count": null,
   "id": "4d1d703f",
   "metadata": {},
   "outputs": [],
   "source": [
    "# Reading a YAML file\n",
    "\n",
    "import yaml\n",
    "from pprint import pprint\n",
    "\n",
    "with open(\"ansible_example.yaml\", \"r\") as yaml_file:\n",
    "  playbook = yaml.safe_load(yaml_file)\n",
    "\n",
    "pprint(playbook)\n",
    "\n",
    "# Notice that the playbook is a dict item\n",
    "# This means we have to access through the index [0]\n",
    "\n",
    "playbook[0][\"name\"] = \"NGINX RULES!\"\n",
    "\n",
    "pprint(playbook)\n",
    "\n",
    "# Deleting the first task\n",
    "\n",
    "del playbook[0][\"tasks\"][0]\n",
    "\n",
    "pprint(playbook)\n"
   ]
  },
  {
   "cell_type": "code",
   "execution_count": 18,
   "id": "b72d379a",
   "metadata": {},
   "outputs": [
    {
     "name": "stdout",
     "output_type": "stream",
     "text": [
      "['symbol', 'name', 'atomic_number', 'atomic_mass', 'state_at_room_temp']\n",
      "['H', 'Hydrogen', '1', '1.008', 'gas']\n",
      "['He', 'Helium', '2', '4.0026', 'gas']\n",
      "['Li', 'Lithium', '3', '6.94', 'solid']\n",
      "['Be', 'Beryllium', '4', '9.0122', 'solid']\n",
      "['B', 'Boron', '5', '10.81', 'solid']\n",
      "['C', 'Carbon', '6', '12.011', 'solid']\n",
      "['N', 'Nitrogen', '7', '14.007', 'gas']\n",
      "['O', 'Oxygen', '8', '15.999', 'gas']\n",
      "['F', 'Fluorine', '9', '18.998', 'gas']\n",
      "['Ne', 'Neon', '10', '20.180', 'gas']\n",
      "['Na', 'Sodium', '11', '22.990', 'solid']\n",
      "['Mg', 'Magnesium', '12', '24.305', 'solid']\n",
      "['Al', 'Aluminium', '13', '26.982', 'solid']\n",
      "['Si', 'Silicon', '14', '28.085', 'solid']\n",
      "['P', 'Phosphorus', '15', '30.974', 'solid']\n",
      "['S', 'Sulfur', '16', '32.06', 'solid']\n",
      "['Cl', 'Chlorine', '17', '35.45', 'gas']\n",
      "['Ar', 'Argon', '18', '39.948', 'gas']\n"
     ]
    }
   ],
   "source": [
    "# Reading CSV\n",
    "\n",
    "import csv\n",
    "\n",
    "with open(\"elements.csv\", newline='') as csv_file:\n",
    "  reader = csv.reader(csv_file, delimiter=',')\n",
    "  for row in reader:\n",
    "    print(row)\n"
   ]
  },
  {
   "cell_type": "code",
   "execution_count": null,
   "id": "bf2887ea",
   "metadata": {},
   "outputs": [],
   "source": [
    "# Reading CSV file with pandas\n",
    "\n",
    "import pandas as pd\n",
    "\n",
    "df = pd.read_csv(\"elements.csv\")\n",
    "\n",
    "print(df.head())\n",
    "print(\"-\" * 66)\n",
    "print(df.describe().round(2))\n",
    "print(\"-\" * 66)\n",
    "print(df[\"symbol\"])\n"
   ]
  }
 ],
 "metadata": {
  "kernelspec": {
   "display_name": ".venv",
   "language": "python",
   "name": "python3"
  },
  "language_info": {
   "codemirror_mode": {
    "name": "ipython",
    "version": 3
   },
   "file_extension": ".py",
   "mimetype": "text/x-python",
   "name": "python",
   "nbconvert_exporter": "python",
   "pygments_lexer": "ipython3",
   "version": "3.11.2"
  }
 },
 "nbformat": 4,
 "nbformat_minor": 5
}
