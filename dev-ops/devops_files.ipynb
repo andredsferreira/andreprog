{
 "cells": [
  {
   "cell_type": "code",
   "execution_count": 54,
   "id": "57e0e074",
   "metadata": {},
   "outputs": [
    {
     "name": "stdout",
     "output_type": "stream",
     "text": [
      "File contents:\n",
      "This is the first line written to the file.\n",
      "\n"
     ]
    }
   ],
   "source": [
    "# Opening a file for writing\n",
    "# If the file does not exist, it creates one\n",
    "# Truncates (erases all content) the file if it already exists\n",
    "# The with statement automatically closes the file\n",
    "\n",
    "filepath = \"file.txt\"\n",
    "\n",
    "with open(filepath, \"w\") as file:\n",
    "  file.write(\"This is the first line written to the file.\\n\")  \n",
    "\n",
    "# Opening a file for reading\n",
    "# Throws error if it doesn't exist\n",
    "\n",
    "with open(filepath, \"r\") as file:\n",
    "  contents = file.read()\n",
    "  print(f\"File contents:\\n{contents}\")"
   ]
  },
  {
   "cell_type": "code",
   "execution_count": 55,
   "id": "5ef7663b",
   "metadata": {},
   "outputs": [
    {
     "name": "stdout",
     "output_type": "stream",
     "text": [
      "This is the first line written to the file.\n",
      "This is the second line written to the file.\n",
      "\n"
     ]
    }
   ],
   "source": [
    "# Opening file for appending content\n",
    "\n",
    "with open(filepath, \"a\") as file:\n",
    "  file.write(\"This is the second line written to the file.\\n\")\n",
    "\n",
    "with open(filepath, \"r\") as file:\n",
    "  content = file.read()\n",
    "  print(content)"
   ]
  },
  {
   "cell_type": "code",
   "execution_count": 56,
   "id": "772d638f",
   "metadata": {},
   "outputs": [
    {
     "name": "stdout",
     "output_type": "stream",
     "text": [
      "This is the first line written to the file.\n",
      "This is the second line written to the file.\n",
      "This is the third line written to the file.\n",
      "\n"
     ]
    }
   ],
   "source": [
    "# Opening file for reading and writing\n",
    "# The file must exist\n",
    "# The \"r+\" flag does not truncate the file\n",
    "# The file cursor starts at the beginning\n",
    "\n",
    "with open(filepath, \"r+\") as file:\n",
    "\n",
    "  # Move cursor to the end to start writing\n",
    "  file.seek(0, 2)\n",
    "\n",
    "  file.write(\"This is the third line written to the file.\\n\")\n",
    "  \n",
    "  # Move cursor to beginning to read all contents\n",
    "  file.seek(0)\n",
    "\n",
    "  contents = file.read()\n",
    "  print(contents)\n"
   ]
  },
  {
   "cell_type": "code",
   "execution_count": 57,
   "id": "6dbd0b50",
   "metadata": {},
   "outputs": [
    {
     "name": "stdout",
     "output_type": "stream",
     "text": [
      "This is the fourth line written to the file.\n",
      "All others are gone!\n",
      "\n"
     ]
    }
   ],
   "source": [
    "# Opening file for writing and reading\n",
    "# It truncates the file\n",
    "# If it does not exist, creates a new one\n",
    "\n",
    "with open(filepath, \"w+\") as file:\n",
    "  file.write(\"This is the fourth line written to the file.\\n\")\n",
    "  file.write(\"All others are gone!\\n\")\n",
    "  \n",
    "  file.seek(0)\n",
    "  contents = file.read()\n",
    "  print(contents)"
   ]
  }
 ],
 "metadata": {
  "kernelspec": {
   "display_name": ".venv",
   "language": "python",
   "name": "python3"
  },
  "language_info": {
   "codemirror_mode": {
    "name": "ipython",
    "version": 3
   },
   "file_extension": ".py",
   "mimetype": "text/x-python",
   "name": "python",
   "nbconvert_exporter": "python",
   "pygments_lexer": "ipython3",
   "version": "3.11.2"
  }
 },
 "nbformat": 4,
 "nbformat_minor": 5
}
