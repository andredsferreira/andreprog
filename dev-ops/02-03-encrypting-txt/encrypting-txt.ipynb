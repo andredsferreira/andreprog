{
 "cells": [
  {
   "cell_type": "code",
   "execution_count": 15,
   "id": "7b729693",
   "metadata": {},
   "outputs": [
    {
     "name": "stdout",
     "output_type": "stream",
     "text": [
      "SHA512: b\"6\\xee#\\xb0\\xdf\\xceA\\x80\\x12\\x97\\x8a\\xd1\\xa6\\x13\\x99D\\xc9\\xf3\\\\1\\x8a\\xd7zEc\\x04\\xe2o\\x12\\xc8\\x14\\xe0'Z\\xfe\\x8b\\x07O\\xee)[\\x13\\x1d\\x147\\x1c\\x82p\\xef\\x0b\\xd7\\xd2\\x92\\xefi\\xeaC\\xf6\\n\\xbe\\xac\\x92\\xc5W\"\n",
      "SHA512: 36ee23b0dfce418012978ad1a6139944c9f35c318ad77a456304e26f12c814e0275afe8b074fee295b131d14371c8270ef0bd7d292ef69ea43f60abeac92c557\n",
      "MD5: b'\\nw\\x9c\\t|$\\x0e!4\\xae\"\\x01\\x8e\\x82m\\x0e'\n",
      "MD5: 0a779c097c240e2134ae22018e826d0e\n"
     ]
    }
   ],
   "source": [
    "# Simple hashing of a password using common hashing algorithms\n",
    "# To hash the encoding must be bytes\n",
    "\n",
    "import hashlib\n",
    "\n",
    "secret = \"This is the secret to be hashed!\"\n",
    "\n",
    "# Convert from UTF-8 to byte enconding\n",
    "bsecret = secret.encode()\n",
    "\n",
    "sha512_hash = hashlib.sha512()\n",
    "sha512_hash.update(bsecret)\n",
    "print(f\"SHA512: {sha512_hash.digest()}\")\n",
    "print(f\"SHA512: {sha512_hash.hexdigest()}\")\n",
    "\n",
    "\n",
    "md5_hash = hashlib.md5()\n",
    "md5_hash.update(bsecret)\n",
    "print(f\"MD5: {md5_hash.digest()}\")\n",
    "print(f\"MD5: {md5_hash.hexdigest()}\")\n",
    "\n"
   ]
  },
  {
   "cell_type": "code",
   "execution_count": null,
   "id": "b41fea6a",
   "metadata": {},
   "outputs": [],
   "source": [
    "# Symmetric encryption (same key for encrypting and decrypting)\n",
    "# Using the cryptography.fernet module to encrypt some data symmetrically\n",
    "\n",
    "import cryptography.fernet as fernet\n"
   ]
  }
 ],
 "metadata": {
  "kernelspec": {
   "display_name": ".venv",
   "language": "python",
   "name": "python3"
  },
  "language_info": {
   "codemirror_mode": {
    "name": "ipython",
    "version": 3
   },
   "file_extension": ".py",
   "mimetype": "text/x-python",
   "name": "python",
   "nbconvert_exporter": "python",
   "pygments_lexer": "ipython3",
   "version": "3.11.2"
  }
 },
 "nbformat": 4,
 "nbformat_minor": 5
}
