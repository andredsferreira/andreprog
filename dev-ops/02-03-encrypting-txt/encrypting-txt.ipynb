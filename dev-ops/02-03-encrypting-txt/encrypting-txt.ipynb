{
 "cells": [
  {
   "cell_type": "code",
   "execution_count": null,
   "id": "7b729693",
   "metadata": {},
   "outputs": [],
   "source": [
    "# Simple hashing of a password using common hashing algorithms\n",
    "# To hash the encoding must be bytes\n",
    "\n",
    "import hashlib\n",
    "\n",
    "secret = \"This is the secret to be hashed!\"\n",
    "\n",
    "# Convert from UTF-8 to byte enconding\n",
    "bsecret = secret.encode()\n",
    "\n",
    "sha512_hash = hashlib.sha512()\n",
    "sha512_hash.update(bsecret)\n",
    "print(f\"SHA512: {sha512_hash.digest()}\")\n",
    "print(f\"SHA512: {sha512_hash.hexdigest()}\")\n",
    "\n",
    "\n",
    "md5_hash = hashlib.md5()\n",
    "md5_hash.update(bsecret)\n",
    "print(f\"MD5: {md5_hash.digest()}\")\n",
    "print(f\"MD5: {md5_hash.hexdigest()}\")\n",
    "\n"
   ]
  },
  {
   "cell_type": "code",
   "execution_count": null,
   "id": "b41fea6a",
   "metadata": {},
   "outputs": [],
   "source": [
    "# Symmetric encryption (same key for encrypting and decrypting) faster for larger files\n",
    "# Using the cryptography.fernet module to encrypt some data symmetrically\n",
    "\n",
    "from cryptography.fernet import Fernet\n",
    "\n",
    "key = Fernet.generate_key()\n",
    "print(f\"Key:\\n{key}\")\n",
    "\n",
    "# Create Fernet objecto to encrypt and decrypt the data\n",
    "f = Fernet(key)\n",
    "\n",
    "# Message to encrypt and decrypt must be bytes not unicode\n",
    "message = b\"This is the secret message!\"\n",
    "\n",
    "# Encrypt\n",
    "encrypted_message = f.encrypt(message)\n",
    "print(f\"Encrypted message:\\n{encrypted_message}\")\n",
    "\n",
    "# Decrypt\n",
    "print(f.decrypt(encrypted_message))\n",
    "\n"
   ]
  },
  {
   "cell_type": "code",
   "execution_count": 10,
   "id": "9e20298c",
   "metadata": {},
   "outputs": [
    {
     "name": "stdout",
     "output_type": "stream",
     "text": [
      "b\"\\x1e\\xda\\xd8+P\\xa4Lf\\x05\\xb6\\x87\\xc6\\x9c_%\\xde\\x99\\xde'|\\x020\\xd7\\x9c\\xa2\\xa83)3d8y\\xa1\\xbc\\x00(EY\\xd6\\xf9oe\\x80\\x9cHH\\x97\\xde\\xe4M_J\\x10+\\x06\\xcf\\xdbX@\\x12\\xf8I-m\\xb3\\xf8\\x19\\x94\\x1f!\\xe2\\xcbW5\\xbb\\x12h\\x85\\xaf_\\xb4Iq\\x9a\\xe7\\x83\\xe4Z\\xca;C\\x88\\xfb,u*\\x8e\\xb6\\x94keL\\xa6v3.fvnp\\xd5\\x9f@8\\xc2\\xf8+`\\xec5<\\x8d \\x08jK5`k]\\xcf\\x86\\x87\\xc8\\xd3\\xeb\\x17\\xb8\\x92\\xe0\\x0e'\\x98\\x8f\\x0e\\xf6\\x0bj\\xd6N\\xbc\\x95\\xa5]U\\x17\\xf4\\x12\\xae\\xe6[\\x8f\\xec\\x8c:\\xac2\\xbf\\x99q\\\\\\xb1\\x02\\x96\\xa8\\xfc\\xba\\xedA\\x9e\\xef[\\xddPn\\xb9lG\\x01\\x16\\xb7r\\xd8$B\\xaf\\xa3\\x8e\\x19e\\xdb\\xa2\\xc6\\x074WM\\x9f\\x98\\x01n;\\xec\\xb9\\xae\\x01\\xdf\\xdc\\xa0s\\x80gm?1\\xfbec`NA\\x80\\xc6\\xe2\\xd4\\xa5\\xe9}\\xf0\\x1e<l\\xc9\\x8b\\xef\\xb61\\x18\\x1e\\x11\\xcb\\xebO\\xfcF\\xa7S\\xc6\\xa3\\xfd\\xc2\\xd5\\xdds\\xad-\\xf2|\\xa9\\xe3;\\xcd\\xd9'\\xd6\\xfd\\xf9#\\x95\\xca\\x92\\xa3\\x935\\xadKo\\xb3\\xbc1\\xbd7\\xb6\\xd8x\\xbb\\xe5\\xb4\\xb6{O\\x06\\xd4W\\x8f\\x11\\n_\\xea\\xa5\\x8cT@\\xc3\\x13\\xce8\\xab\\xae\\xc7\\xbd\\x15\\x8a\\xb9M\\x96n q\\xfa\\xb2\\x935x\\x1e\\x8f?P\\xd7\\x81b\\xbd\\xe2 \\xd9\\xe8\\xb7d\\x83\\xfd\\xa3$\\xb7\\xbb\\xcfS\\xfa\\xfer\\xe6\\x81c\\xf0W\\x91\\x93\\xd8\\xd8\\xe1\\xe9]\\xd8\\xb7\\x97\\xfc8\\xf6\\xbf b\\xf2\\x94\\xef\\xc7\\xaa\\x16\\xe7\\xcfQ4Y\\xab\\x92|Y\\xfaO\\n2\\xce\\x04\\x95\\xce\\x16\\x9f\\xec\\xd1\\xde\\xc0F\\x05\\xb7\\xb3\\xd0\\xe6)\\x89\\xbf2k\\x9b\\x12\\xe0\\xd8\\x11\\xb3\\xd8|\\xd6\\x94\\x1a\\x16\\x98Y\\xc0\\x8cG>\\xbc\\x15\\xe1\\x17\\xfbHN\\x86\\xe3\\xd8\\xfb\\x1c\\xebx}\\xa1l\\xfb\\x8f\\xe0\\xa3\\x01P\\xfc6\\xf7z.9bM\\x92\\xac\\x1f\\xc7\\xb6T\\x8d\\xbe\\x99<\\xd2\\xa78(\\xa8\\xce\\xf40z\\xe7\\x1d\\x04\\x94U\\x95\\x0b-,\\xc5d\\xf8\\xc1\\xe5\\n\\x9a\\x19\\xbbQD\\xaa\\xb8\\x9c\\xd6\"\n",
      "b'Secret message!'\n"
     ]
    }
   ],
   "source": [
    "# Asymmetric encryption (private key for decrypting public for encrypting)\n",
    "# Using the Rivest-Shamir-Adleman (RSA) algorithm\n",
    "\n",
    "from cryptography.hazmat.backends import default_backend\n",
    "from cryptography.hazmat.primitives.asymmetric import rsa\n",
    "\n",
    "from cryptography.hazmat.primitives.asymmetric import padding\n",
    "from cryptography.hazmat.primitives import hashes\n",
    "\n",
    "# To decrypt\n",
    "private_key = rsa.generate_private_key(public_exponent=65537,\n",
    "                                       key_size=4096,\n",
    "                                       backend=default_backend())\n",
    "\n",
    "# To encrypt\n",
    "public_key = private_key.public_key()\n",
    "\n",
    "message = b\"Secret message!\"\n",
    "\n",
    "encrypted_message = public_key.encrypt(message,\n",
    "                                       padding.OAEP(mgf=padding.MGF1(algorithm=hashes.SHA256()),\n",
    "                                       algorithm=hashes.SHA256(),\n",
    "                                       label=None))\n",
    "\n",
    "print(encrypted_message)\n",
    "\n",
    "decrypted_message = private_key.decrypt(encrypted_message,\n",
    "                                        padding.OAEP(mgf=padding.MGF1(algorithm=hashes.SHA256()),\n",
    "                                        algorithm=hashes.SHA256(),\n",
    "                                        label=None))\n",
    "\n",
    "print(decrypted_message)\n",
    "\n",
    "\n"
   ]
  }
 ],
 "metadata": {
  "kernelspec": {
   "display_name": ".venv",
   "language": "python",
   "name": "python3"
  },
  "language_info": {
   "codemirror_mode": {
    "name": "ipython",
    "version": 3
   },
   "file_extension": ".py",
   "mimetype": "text/x-python",
   "name": "python",
   "nbconvert_exporter": "python",
   "pygments_lexer": "ipython3",
   "version": "3.11.2"
  }
 },
 "nbformat": 4,
 "nbformat_minor": 5
}
