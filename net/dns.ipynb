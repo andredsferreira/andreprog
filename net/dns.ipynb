{
 "cells": [
  {
   "cell_type": "code",
   "execution_count": null,
   "id": "bff83922",
   "metadata": {},
   "outputs": [],
   "source": [
    "import dns.resolver\n",
    "\n",
    "domain = \"isep.ipp.pt\"\n",
    "record_types = [\"A\", \"AAAA\", \"MX\", \"TXT\"]\n",
    "\n",
    "for rtype in record_types:\n",
    "    try:\n",
    "        answers = dns.resolver.resolve(domain, rtype)\n",
    "        print(f\"{rtype} records for {domain}:\")\n",
    "\n",
    "        for rdata in answers:\n",
    "            print(f\"  - {rdata.to_text()}\")\n",
    "\n",
    "    except Exception as e:\n",
    "        print(f\"Error querying {rtype}: {e}\")\n"
   ]
  },
  {
   "cell_type": "code",
   "execution_count": null,
   "id": "c5e9d696",
   "metadata": {},
   "outputs": [
    {
     "name": "stdout",
     "output_type": "stream",
     "text": [
      "\n",
      "; <<>> DiG 9.18.33-1~deb12u2-Debian <<>> cisco.com\n",
      ";; global options: +cmd\n",
      ";; Got answer:\n",
      ";; ->>HEADER<<- opcode: QUERY, status: NOERROR, id: 62601\n",
      ";; flags: qr rd ra; QUERY: 1, ANSWER: 1, AUTHORITY: 0, ADDITIONAL: 1\n",
      "\n",
      ";; OPT PSEUDOSECTION:\n",
      "; EDNS: version: 0, flags:; udp: 4096\n",
      ";; QUESTION SECTION:\n",
      ";cisco.com.\t\t\tIN\tA\n",
      "\n",
      ";; ANSWER SECTION:\n",
      "cisco.com.\t\t432\tIN\tA\t72.163.4.185\n",
      "\n",
      ";; Query time: 4 msec\n",
      ";; SERVER: 192.168.1.1#53(192.168.1.1) (UDP)\n",
      ";; WHEN: Sat Jun 28 01:12:55 WEST 2025\n",
      ";; MSG SIZE  rcvd: 54\n",
      "\n"
     ]
    },
    {
     "data": {
      "text/plain": [
       "CompletedProcess(args=['dig', 'cisco.com'], returncode=0)"
      ]
     },
     "execution_count": 9,
     "metadata": {},
     "output_type": "execute_result"
    }
   ],
   "source": [
    "\n",
    "# Running the dig command from the shell\n",
    "\n",
    "import subprocess\n",
    "\n",
    "domain = \"cisco.com\"\n",
    "\n",
    "subprocess.run([\"dig\", domain])\n"
   ]
  }
 ],
 "metadata": {
  "kernelspec": {
   "display_name": ".venv",
   "language": "python",
   "name": "python3"
  },
  "language_info": {
   "codemirror_mode": {
    "name": "ipython",
    "version": 3
   },
   "file_extension": ".py",
   "mimetype": "text/x-python",
   "name": "python",
   "nbconvert_exporter": "python",
   "pygments_lexer": "ipython3",
   "version": "3.11.2"
  }
 },
 "nbformat": 4,
 "nbformat_minor": 5
}
